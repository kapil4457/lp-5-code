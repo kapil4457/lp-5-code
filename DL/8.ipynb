{
  "nbformat": 4,
  "nbformat_minor": 0,
  "metadata": {
    "colab": {
      "provenance": []
    },
    "kernelspec": {
      "name": "python3",
      "display_name": "Python 3"
    },
    "language_info": {
      "name": "python"
    }
  },
  "cells": [
    {
      "cell_type": "code",
      "execution_count": null,
      "metadata": {
        "id": "doBVIzAuuyjp"
      },
      "outputs": [],
      "source": [
        "import tensorflow as tf\n",
        "from tensorflow import keras\n"
      ]
    },
    {
      "cell_type": "code",
      "source": [
        "(x_train, y_train), (x_test, y_test) = keras.datasets.fashion_mnist.load_data()"
      ],
      "metadata": {
        "colab": {
          "base_uri": "https://localhost:8080/"
        },
        "id": "qZi0O_kvvALc",
        "outputId": "3d169fa3-6b37-45c2-f488-04b26d49a974"
      },
      "execution_count": null,
      "outputs": [
        {
          "output_type": "stream",
          "name": "stdout",
          "text": [
            "Downloading data from https://storage.googleapis.com/tensorflow/tf-keras-datasets/train-labels-idx1-ubyte.gz\n",
            "29515/29515 [==============================] - 0s 0us/step\n",
            "Downloading data from https://storage.googleapis.com/tensorflow/tf-keras-datasets/train-images-idx3-ubyte.gz\n",
            "26421880/26421880 [==============================] - 0s 0us/step\n",
            "Downloading data from https://storage.googleapis.com/tensorflow/tf-keras-datasets/t10k-labels-idx1-ubyte.gz\n",
            "5148/5148 [==============================] - 0s 0us/step\n",
            "Downloading data from https://storage.googleapis.com/tensorflow/tf-keras-datasets/t10k-images-idx3-ubyte.gz\n",
            "4422102/4422102 [==============================] - 0s 0us/step\n"
          ]
        }
      ]
    },
    {
      "cell_type": "code",
      "source": [
        "# Preprocess the data\n",
        "x_train = x_train.astype('float32') / 255.0\n",
        "x_test = x_test.astype('float32') / 255.0\n",
        "x_train = x_train.reshape(-1, 28, 28, 1)\n",
        "x_test = x_test.reshape(-1, 28, 28, 1)"
      ],
      "metadata": {
        "id": "VCBVLaPTvIpM"
      },
      "execution_count": null,
      "outputs": []
    },
    {
      "cell_type": "code",
      "source": [
        "# Build the CNN model\n",
        "model = keras.Sequential([\n",
        "    keras.layers.Conv2D(32, (3,3), activation='relu', input_shape=(28,28,1)),\n",
        "    keras.layers.MaxPooling2D((2,2)),\n",
        "    keras.layers.Dropout(0.25),\n",
        "    keras.layers.Conv2D(64, (3,3), activation='relu'),\n",
        "    keras.layers.MaxPooling2D((2,2)),\n",
        "    keras.layers.Dropout(0.25),\n",
        "    keras.layers.Conv2D(128, (3,3), activation='relu'),\n",
        "    keras.layers.Flatten(),\n",
        "    keras.layers.Dense(128, activation='relu'),\n",
        "    keras.layers.Dropout(0.25),\n",
        "    keras.layers.Dense(10, activation='softmax')\n",
        "])"
      ],
      "metadata": {
        "id": "dFJJNfOZvN0h"
      },
      "execution_count": null,
      "outputs": []
    },
    {
      "cell_type": "code",
      "source": [
        "# Compile the model\n",
        "model.compile(optimizer='adam', loss='sparse_categorical_crossentropy', metrics=['accuracy'])"
      ],
      "metadata": {
        "id": "oySmRwJpvg3s"
      },
      "execution_count": null,
      "outputs": []
    },
    {
      "cell_type": "code",
      "source": [
        "\n",
        "# Train the model\n",
        "history = model.fit(x_train, y_train, epochs=10, validation_data=(x_test, y_test))\n"
      ],
      "metadata": {
        "colab": {
          "base_uri": "https://localhost:8080/"
        },
        "id": "csYz8x_rvkLa",
        "outputId": "1f5dc309-3653-4412-c9cb-7438cc04a68f"
      },
      "execution_count": null,
      "outputs": [
        {
          "output_type": "stream",
          "name": "stdout",
          "text": [
            "Epoch 1/10\n",
            "1875/1875 [==============================] - 69s 36ms/step - loss: 0.5464 - accuracy: 0.7978 - val_loss: 0.3875 - val_accuracy: 0.8574\n",
            "Epoch 2/10\n",
            "1875/1875 [==============================] - 67s 36ms/step - loss: 0.3631 - accuracy: 0.8672 - val_loss: 0.3115 - val_accuracy: 0.8849\n",
            "Epoch 3/10\n",
            "1875/1875 [==============================] - 70s 37ms/step - loss: 0.3185 - accuracy: 0.8834 - val_loss: 0.2926 - val_accuracy: 0.8925\n",
            "Epoch 4/10\n",
            "1875/1875 [==============================] - 67s 36ms/step - loss: 0.2919 - accuracy: 0.8920 - val_loss: 0.2782 - val_accuracy: 0.8979\n",
            "Epoch 5/10\n",
            "1875/1875 [==============================] - 67s 35ms/step - loss: 0.2728 - accuracy: 0.8988 - val_loss: 0.2615 - val_accuracy: 0.9044\n",
            "Epoch 6/10\n",
            "1875/1875 [==============================] - 67s 36ms/step - loss: 0.2610 - accuracy: 0.9024 - val_loss: 0.2549 - val_accuracy: 0.9086\n",
            "Epoch 7/10\n",
            "1875/1875 [==============================] - 67s 36ms/step - loss: 0.2511 - accuracy: 0.9057 - val_loss: 0.2575 - val_accuracy: 0.9100\n",
            "Epoch 8/10\n",
            "1875/1875 [==============================] - 67s 35ms/step - loss: 0.2382 - accuracy: 0.9095 - val_loss: 0.2700 - val_accuracy: 0.9065\n",
            "Epoch 9/10\n",
            "1875/1875 [==============================] - 67s 36ms/step - loss: 0.2335 - accuracy: 0.9128 - val_loss: 0.2496 - val_accuracy: 0.9088\n",
            "Epoch 10/10\n",
            "1875/1875 [==============================] - 66s 35ms/step - loss: 0.2229 - accuracy: 0.9162 - val_loss: 0.2618 - val_accuracy: 0.9063\n"
          ]
        }
      ]
    },
    {
      "cell_type": "code",
      "source": [
        "# Evaluate the model\n",
        "test_loss, test_acc = model.evaluate(x_test, y_test)\n",
        "print('Test accuracy:', test_acc)"
      ],
      "metadata": {
        "colab": {
          "base_uri": "https://localhost:8080/"
        },
        "id": "TxTUcRrdvnJL",
        "outputId": "bdda1663-9574-4386-f6e9-e9eb8ae4bea6"
      },
      "execution_count": null,
      "outputs": [
        {
          "output_type": "stream",
          "name": "stdout",
          "text": [
            "313/313 [==============================] - 4s 13ms/step - loss: 0.2618 - accuracy: 0.9063\n",
            "Test accuracy: 0.9063000082969666\n"
          ]
        }
      ]
    }
  ]
}